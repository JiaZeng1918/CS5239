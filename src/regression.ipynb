{
 "cells": [
  {
   "cell_type": "code",
   "execution_count": 92,
   "id": "994da71d",
   "metadata": {
    "scrolled": true
   },
   "outputs": [],
   "source": [
    "import matplotlib.pyplot as plt\n",
    "import pandas as pd\n",
    "import seaborn as sns\n",
    "import numpy as np\n",
    "from sklearn.model_selection import train_test_split"
   ]
  },
  {
   "cell_type": "markdown",
   "id": "66a768cb",
   "metadata": {},
   "source": [
    "# 1. Data Process"
   ]
  },
  {
   "cell_type": "markdown",
   "id": "489a2fd8",
   "metadata": {},
   "source": [
    "## 1.1 Collect Data"
   ]
  },
  {
   "cell_type": "code",
   "execution_count": 93,
   "id": "3f12db29",
   "metadata": {},
   "outputs": [
    {
     "name": "stdout",
     "output_type": "stream",
     "text": [
      "<class 'pandas.core.frame.DataFrame'>\n",
      "RangeIndex: 2946 entries, 0 to 2945\n",
      "Data columns (total 18 columns):\n",
      " #   Column                           Non-Null Count  Dtype  \n",
      "---  ------                           --------------  -----  \n",
      " 0   location                         2946 non-null   object \n",
      " 1   date                             2946 non-null   object \n",
      " 2   total_cases_per_million          2946 non-null   float64\n",
      " 3   new_cases_per_million            2946 non-null   float64\n",
      " 4   total_deaths_per_million         2946 non-null   float64\n",
      " 5   new_deaths_per_million           2946 non-null   float64\n",
      " 6   stringency_index                 2946 non-null   float64\n",
      " 7   hospital_beds_per_thousand       2946 non-null   float64\n",
      " 8   testing_policy                   2946 non-null   int64  \n",
      " 9   contact_tracing                  2946 non-null   int64  \n",
      " 10  facial_coverings                 2946 non-null   int64  \n",
      " 11  restrictions_internal_movements  2946 non-null   int64  \n",
      " 12  international_travel_controls    2946 non-null   int64  \n",
      " 13  cancel_public_events             2946 non-null   int64  \n",
      " 14  restriction_gatherings           2946 non-null   int64  \n",
      " 15  school_closures                  2946 non-null   int64  \n",
      " 16  workplace_closures               2946 non-null   int64  \n",
      " 17  stay_home_requirements           2946 non-null   int64  \n",
      "dtypes: float64(6), int64(10), object(2)\n",
      "memory usage: 414.4+ KB\n",
      "None\n",
      "       total_cases_per_million  new_cases_per_million  \\\n",
      "count              2946.000000            2946.000000   \n",
      "mean              60769.707510             211.831830   \n",
      "std               92868.362994             481.465125   \n",
      "min                   0.003000               0.000000   \n",
      "25%                  75.477250               0.090000   \n",
      "50%               10333.204000              16.140000   \n",
      "75%               96842.024750             203.008250   \n",
      "max              338460.095000            6963.251000   \n",
      "\n",
      "       total_deaths_per_million  new_deaths_per_million  stringency_index  \\\n",
      "count               2946.000000             2946.000000       2946.000000   \n",
      "mean                 567.633415                1.162582         56.203999   \n",
      "std                  960.186019                2.201954         17.943228   \n",
      "min                    0.000000                0.000000          0.000000   \n",
      "25%                    3.251000                0.000000         45.370000   \n",
      "50%                    5.322000                0.000000         56.020000   \n",
      "75%                  595.935750                1.419000         71.760000   \n",
      "max                 3132.734000               12.974000         82.410000   \n",
      "\n",
      "       hospital_beds_per_thousand  testing_policy  contact_tracing  \\\n",
      "count                 2946.000000     2946.000000      2946.000000   \n",
      "mean                     3.170000        2.811948         1.666667   \n",
      "std                      0.841134        0.495761         0.471485   \n",
      "min                      2.400000        0.000000         1.000000   \n",
      "25%                      2.400000        3.000000         1.000000   \n",
      "50%                      2.770000        3.000000         2.000000   \n",
      "75%                      4.340000        3.000000         2.000000   \n",
      "max                      4.340000        3.000000         2.000000   \n",
      "\n",
      "       facial_coverings  restrictions_internal_movements  \\\n",
      "count       2946.000000                      2946.000000   \n",
      "mean           2.888663                         1.010183   \n",
      "std            1.115637                         0.939186   \n",
      "min            0.000000                         0.000000   \n",
      "25%            2.000000                         0.000000   \n",
      "50%            3.000000                         1.000000   \n",
      "75%            4.000000                         2.000000   \n",
      "max            4.000000                         2.000000   \n",
      "\n",
      "       international_travel_controls  cancel_public_events  \\\n",
      "count                    2946.000000           2946.000000   \n",
      "mean                        2.313985              1.479294   \n",
      "std                         0.876512              0.647114   \n",
      "min                         0.000000              0.000000   \n",
      "25%                         2.000000              1.000000   \n",
      "50%                         3.000000              2.000000   \n",
      "75%                         3.000000              2.000000   \n",
      "max                         3.000000              2.000000   \n",
      "\n",
      "       restriction_gatherings  school_closures  workplace_closures  \\\n",
      "count             2946.000000      2946.000000         2946.000000   \n",
      "mean                 3.138493         1.938900            1.863544   \n",
      "std                  1.441973         0.954838            0.866103   \n",
      "min                  0.000000         0.000000            0.000000   \n",
      "25%                  2.000000         1.000000            1.000000   \n",
      "50%                  4.000000         2.000000            2.000000   \n",
      "75%                  4.000000         3.000000            3.000000   \n",
      "max                  4.000000         3.000000            3.000000   \n",
      "\n",
      "       stay_home_requirements  \n",
      "count             2946.000000  \n",
      "mean                 1.480991  \n",
      "std                  1.022238  \n",
      "min                  0.000000  \n",
      "25%                  1.000000  \n",
      "50%                  1.000000  \n",
      "75%                  2.000000  \n",
      "max                  3.000000  \n"
     ]
    }
   ],
   "source": [
    "data_sg = pd.read_csv('../data/SG_data.csv')\n",
    "data_us = pd.read_csv('../data/USA_data.csv')\n",
    "data_cn = pd.read_csv('../data/China_data.csv')\n",
    "data_all = pd.concat([data_sg, data_us, data_cn], ignore_index = True)\n",
    "\n",
    "data = data_all\n",
    "print(data.info())\n",
    "print(data.describe())"
   ]
  },
  {
   "cell_type": "markdown",
   "id": "0edd2842",
   "metadata": {},
   "source": [
    "## 1.2 Check Data With The Correlation"
   ]
  },
  {
   "cell_type": "code",
   "execution_count": 94,
   "id": "fc3eca5b",
   "metadata": {},
   "outputs": [
    {
     "data": {
      "image/png": "[encoded data removed]",
      "text/plain": [
       "<Figure size 864x648 with 2 Axes>"
      ]
     },
     "metadata": {
      "needs_background": "light"
     },
     "output_type": "display_data"
    }
   ],
   "source": [
    "corr=data.corr()\n",
    "plt.subplots(figsize=(12,9))\n",
    "sns.heatmap(corr,vmax=0.9,square=True,linecolor='white')\n",
    "plt.show()"
   ]
  },
  {
   "cell_type": "code",
   "execution_count": 95,
   "id": "3a1e8b21",
   "metadata": {},
   "outputs": [],
   "source": [
    "# sns.set()\n",
    "# c_scatter= [data.keys()[i] for i in [2,10,11,12]]\n",
    "# pair_scatter=sns.pairplot(data[c_scatter],height=2.5)\n",
    "# plt.show()"
   ]
  },
  {
   "cell_type": "markdown",
   "id": "53fdf7e2",
   "metadata": {},
   "source": [
    "## 1.3 Data Split"
   ]
  },
  {
   "cell_type": "code",
   "execution_count": 96,
   "id": "0d361cb2",
   "metadata": {},
   "outputs": [
    {
     "name": "stdout",
     "output_type": "stream",
     "text": [
      "(2356, 12) (590, 12) (2356,) (590,)\n"
     ]
    }
   ],
   "source": [
    "y_name = 'total_cases_per_million'\n",
    "# y_name = 'new_cases_per_million'\n",
    "\n",
    "x = data.iloc[:, 6:]\n",
    "y = data.loc[:, y_name]\n",
    "\n",
    "y = np.log(y + 1)\n",
    "\n",
    "x_train, x_test, y_train, y_test = train_test_split(x, y, test_size=0.20, random_state = 0)\n",
    "\n",
    "print(x_train.shape, x_test.shape, y_train.shape, y_test.shape)"
   ]
  },
  {
   "cell_type": "code",
   "execution_count": 97,
   "id": "79a42e0f",
   "metadata": {},
   "outputs": [
    {
     "name": "stdout",
     "output_type": "stream",
     "text": [
      "count    2946.000000\n",
      "mean        8.232975\n",
      "std         3.411922\n",
      "min         0.002996\n",
      "25%         4.336993\n",
      "50%         9.243214\n",
      "75%        11.480846\n",
      "max        12.732164\n",
      "Name: total_cases_per_million, dtype: float64\n"
     ]
    }
   ],
   "source": [
    "print(y.describe())"
   ]
  },
  {
   "cell_type": "markdown",
   "id": "d0e640e7",
   "metadata": {},
   "source": [
    "# 2. Regression"
   ]
  },
  {
   "cell_type": "code",
   "execution_count": 98,
   "id": "7a70eca6",
   "metadata": {},
   "outputs": [],
   "source": [
    "from sklearn.linear_model import LinearRegression\n",
    "from sklearn.linear_model import Ridge \n",
    "from sklearn.ensemble import RandomForestRegressor\n",
    "\n",
    "from sklearn.model_selection import cross_val_score\n",
    "\n",
    "from sklearn.metrics import mean_squared_error as MSE\n",
    "from sklearn.metrics import r2_score"
   ]
  },
  {
   "cell_type": "markdown",
   "id": "03d13d25",
   "metadata": {},
   "source": [
    "## 2.1 Linear Regression"
   ]
  },
  {
   "cell_type": "markdown",
   "id": "5b126994",
   "metadata": {},
   "source": [
    "### fit model"
   ]
  },
  {
   "cell_type": "code",
   "execution_count": 99,
   "id": "84c1ad0d",
   "metadata": {},
   "outputs": [
    {
     "name": "stdout",
     "output_type": "stream",
     "text": [
      "[ 0.08750056 -2.07232311  2.83989938 -2.57645047  0.71651716 -0.85293322\n",
      " -1.11721707  0.3438343  -0.56985027 -0.53254065  0.06075841 -0.49007226] 10.492738711836356\n"
     ]
    }
   ],
   "source": [
    "model_LR = LinearRegression()\n",
    "model_LR.fit(x_train, y_train)\n",
    "\n",
    "print(model_LR.coef_, model_LR.intercept_)"
   ]
  },
  {
   "cell_type": "markdown",
   "id": "722f9c6f",
   "metadata": {},
   "source": [
    "### predict"
   ]
  },
  {
   "cell_type": "code",
   "execution_count": 100,
   "id": "dc92fd04",
   "metadata": {},
   "outputs": [],
   "source": [
    "y_pred = model_LR.predict(x_test)"
   ]
  },
  {
   "cell_type": "markdown",
   "id": "e19e0264",
   "metadata": {},
   "source": [
    "### evaluation"
   ]
  },
  {
   "cell_type": "code",
   "execution_count": 101,
   "id": "0e571f29",
   "metadata": {},
   "outputs": [
    {
     "name": "stdout",
     "output_type": "stream",
     "text": [
      "MSE: 1.3946467353985341\n",
      "R2: 0.8619009405140474\n"
     ]
    }
   ],
   "source": [
    "print(\"MSE: {}\".format(MSE(y_pred, y_test)))\n",
    "print(\"R2: {}\".format(r2_score(y_pred, y_test)))"
   ]
  },
  {
   "cell_type": "markdown",
   "id": "785b7a82",
   "metadata": {},
   "source": [
    "## 2.2 Ridge Regression"
   ]
  },
  {
   "cell_type": "code",
   "execution_count": 102,
   "id": "561bb67c",
   "metadata": {},
   "outputs": [
    {
     "data": {
      "text/plain": [
       "[<matplotlib.lines.Line2D at 0x7fcf3e4e5040>]"
      ]
     },
     "execution_count": 102,
     "metadata": {},
     "output_type": "execute_result"
    },
    {
     "data": {
      "image/png": "[encoded data removed]",
      "text/plain": [
       "<Figure size 432x288 with 1 Axes>"
      ]
     },
     "metadata": {
      "needs_background": "light"
     },
     "output_type": "display_data"
    }
   ],
   "source": [
    "alphas=np.logspace(-2,2,50)\n",
    "test_scores1=[]\n",
    "test_scores2=[]\n",
    "for alpha in alphas:\n",
    "    clf=Ridge(alpha)\n",
    "    scores1=np.sqrt(cross_val_score(clf,x_train,y_train,cv=5))\n",
    "    scores2=np.sqrt(cross_val_score(clf,x_train,y_train,cv=10))\n",
    "    test_scores1.append(1-np.mean(scores1))\n",
    "    test_scores2.append(1-np.mean(scores2))\n",
    "plt.plot(alphas,test_scores1,color='red')\n",
    "plt.plot(alphas,test_scores2,color='green')"
   ]
  },
  {
   "cell_type": "markdown",
   "id": "72d97d18",
   "metadata": {},
   "source": [
    "### fit model"
   ]
  },
  {
   "cell_type": "code",
   "execution_count": 103,
   "id": "3e190952",
   "metadata": {},
   "outputs": [
    {
     "data": {
      "text/plain": [
       "Ridge(alpha=10)"
      ]
     },
     "execution_count": 103,
     "metadata": {},
     "output_type": "execute_result"
    }
   ],
   "source": [
    "model_ridge=Ridge(alpha=10)\n",
    "model_ridge.fit(x_train, y_train)"
   ]
  },
  {
   "cell_type": "markdown",
   "id": "55fc3d01",
   "metadata": {},
   "source": [
    "### predict"
   ]
  },
  {
   "cell_type": "code",
   "execution_count": 104,
   "id": "eed70e73",
   "metadata": {},
   "outputs": [],
   "source": [
    "y_pred = model_ridge.predict(x_test)"
   ]
  },
  {
   "cell_type": "markdown",
   "id": "665e1730",
   "metadata": {},
   "source": [
    "### evaluation"
   ]
  },
  {
   "cell_type": "code",
   "execution_count": 105,
   "id": "09c86f41",
   "metadata": {},
   "outputs": [
    {
     "name": "stdout",
     "output_type": "stream",
     "text": [
      "MSE: 1.3885504136504465\n",
      "R2: 0.8600429765298029\n"
     ]
    }
   ],
   "source": [
    "print(\"MSE: {}\".format(MSE(y_pred, y_test)))\n",
    "print(\"R2: {}\".format(r2_score(y_pred, y_test)))"
   ]
  },
  {
   "cell_type": "markdown",
   "id": "9ac8e376",
   "metadata": {},
   "source": [
    "## 2.3 Random Forest"
   ]
  },
  {
   "cell_type": "markdown",
   "id": "bfaba009",
   "metadata": {},
   "source": [
    "### compare the value of max_features"
   ]
  },
  {
   "cell_type": "code",
   "execution_count": 106,
   "id": "1d0b8c94",
   "metadata": {},
   "outputs": [
    {
     "data": {
      "text/plain": [
       "[<matplotlib.lines.Line2D at 0x7fcf3ea9a850>]"
      ]
     },
     "execution_count": 106,
     "metadata": {},
     "output_type": "execute_result"
    },
    {
     "data": {
      "image/png": "[encoded data removed]",
      "text/plain": [
       "<Figure size 432x288 with 1 Axes>"
      ]
     },
     "metadata": {
      "needs_background": "light"
     },
     "output_type": "display_data"
    }
   ],
   "source": [
    "max_features=[.1,.2,.3,.4,.5,.6,.7,.8,.9]\n",
    "# max_features=[.1,.3,.5,.7,.9]\n",
    "\n",
    "test_scores=[]\n",
    "\n",
    "for max_feature in max_features: \n",
    "    clf=RandomForestRegressor(max_features=max_feature,n_estimators=100)\n",
    "    score=np.sqrt(cross_val_score(clf,x_train,y_train,cv=5))\n",
    "    test_scores.append(1-np.mean(score))\n",
    "    \n",
    "plt.plot(max_features,test_scores)"
   ]
  },
  {
   "cell_type": "markdown",
   "id": "107a1015",
   "metadata": {},
   "source": [
    "### fit model"
   ]
  },
  {
   "cell_type": "code",
   "execution_count": 107,
   "id": "6a52176c",
   "metadata": {},
   "outputs": [
    {
     "data": {
      "text/plain": [
       "RandomForestRegressor(max_features=0.7)"
      ]
     },
     "execution_count": 107,
     "metadata": {},
     "output_type": "execute_result"
    }
   ],
   "source": [
    "model_RF = RandomForestRegressor(max_features=0.7,n_estimators=100)\n",
    "model_RF.fit(x_train,y_train)"
   ]
  },
  {
   "cell_type": "markdown",
   "id": "920292c8",
   "metadata": {},
   "source": [
    "### predict"
   ]
  },
  {
   "cell_type": "code",
   "execution_count": 108,
   "id": "312dfe9c",
   "metadata": {},
   "outputs": [],
   "source": [
    "y_pred = model_RF.predict(x_test)"
   ]
  },
  {
   "cell_type": "markdown",
   "id": "741f0bc5",
   "metadata": {},
   "source": [
    "### evaluation"
   ]
  },
  {
   "cell_type": "code",
   "execution_count": 109,
   "id": "332e8006",
   "metadata": {},
   "outputs": [
    {
     "name": "stdout",
     "output_type": "stream",
     "text": [
      "MSE: 0.02292919077231739\n",
      "R2: 0.9979580407359567\n"
     ]
    }
   ],
   "source": [
    "print(\"MSE: {}\".format(MSE(y_pred, y_test)))\n",
    "print(\"R2: {}\".format(r2_score(y_pred, y_test)))"
   ]
  },
  {
   "cell_type": "code",
   "execution_count": null,
   "id": "10469563",
   "metadata": {},
   "outputs": [],
   "source": []
  }
 ],
 "metadata": {
  "kernelspec": {
   "display_name": "Python 3 (ipykernel)",
   "language": "python",
   "name": "python3"
  },
  "language_info": {
   "codemirror_mode": {
    "name": "ipython",
    "version": 3
   },
   "file_extension": ".py",
   "mimetype": "text/x-python",
   "name": "python",
   "nbconvert_exporter": "python",
   "pygments_lexer": "ipython3",
   "version": "3.9.7"
  }
 },
 "nbformat": 4,
 "nbformat_minor": 5
}
